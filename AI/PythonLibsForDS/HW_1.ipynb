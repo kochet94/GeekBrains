{
 "cells": [
  {
   "cell_type": "code",
   "execution_count": null,
   "id": "bfc2d0a5",
   "metadata": {},
   "outputs": [],
   "source": [
    "#Topic: Numpy-driven calculation"
   ]
  },
  {
   "cell_type": "code",
   "execution_count": 15,
   "id": "96a02a33",
   "metadata": {},
   "outputs": [],
   "source": [
    "#TASK 1#"
   ]
  },
  {
   "cell_type": "code",
   "execution_count": 4,
   "id": "f05b411f",
   "metadata": {},
   "outputs": [],
   "source": [
    "import numpy as np"
   ]
  },
  {
   "cell_type": "code",
   "execution_count": 5,
   "id": "4a883f84",
   "metadata": {},
   "outputs": [],
   "source": [
    "array_5x2 = np.array([[1, 6],\n",
    "                      [2, 8],\n",
    "                      [3, 11],\n",
    "                      [3, 10],\n",
    "                      [1, 7]])"
   ]
  },
  {
   "cell_type": "code",
   "execution_count": 10,
   "id": "565aeb9c",
   "metadata": {
    "scrolled": true
   },
   "outputs": [
    {
     "name": "stdout",
     "output_type": "stream",
     "text": [
      "<class 'numpy.ndarray'>\n"
     ]
    }
   ],
   "source": [
    "array_5x2_t = array_5x2.T\n",
    "print(array_5x2_t)"
   ]
  },
  {
   "cell_type": "code",
   "execution_count": 15,
   "id": "b9f4ca95",
   "metadata": {},
   "outputs": [
    {
     "name": "stdout",
     "output_type": "stream",
     "text": [
      "[2.  8.4]\n"
     ]
    }
   ],
   "source": [
    "mean_0 = np.mean(array_5x2_t[0])\n",
    "mean_1 = np.mean(array_5x2_t[1])   \n",
    "mean_a = np.array([mean_0, mean_1])\n",
    "print(mean_a)"
   ]
  },
  {
   "cell_type": "code",
   "execution_count": null,
   "id": "cb534248",
   "metadata": {},
   "outputs": [],
   "source": [
    "#TASK 2#"
   ]
  },
  {
   "cell_type": "code",
   "execution_count": 18,
   "id": "e7ed8ac4",
   "metadata": {},
   "outputs": [
    {
     "name": "stdout",
     "output_type": "stream",
     "text": [
      "[[8.  1.6]\n",
      " [8.  1.6]\n",
      " [8.  1.6]\n",
      " [8.  1.6]\n",
      " [8.  1.6]]\n"
     ]
    }
   ],
   "source": [
    "a = np.array([[10, 10],\n",
    "              [10, 10],\n",
    "              [10, 10],\n",
    "              [10, 10],\n",
    "              [10, 10]])\n",
    "a_centered = a - mean_a\n",
    "print(a_centered)"
   ]
  },
  {
   "cell_type": "code",
   "execution_count": null,
   "id": "b60054ca",
   "metadata": {},
   "outputs": [],
   "source": [
    "#TASK 3#"
   ]
  },
  {
   "cell_type": "code",
   "execution_count": 24,
   "id": "da027b13",
   "metadata": {},
   "outputs": [
    {
     "name": "stdout",
     "output_type": "stream",
     "text": [
      "63.999999999999986\n"
     ]
    }
   ],
   "source": [
    "a_centered_t = a_centered.T\n",
    "a_centered_sp = np.dot(a_centered_t[0], a_centered_t[1])\n",
    "print(a_sp)"
   ]
  },
  {
   "cell_type": "code",
   "execution_count": 25,
   "id": "7704ae98",
   "metadata": {},
   "outputs": [
    {
     "name": "stdout",
     "output_type": "stream",
     "text": [
      "15.999999999999996\n"
     ]
    }
   ],
   "source": [
    "div_factor = 1 / (len(a) - 1)\n",
    "a_centered_sp_div = np.dot(a_centered_sp, div_factor)\n",
    "print(a_centered_sp_div)"
   ]
  },
  {
   "cell_type": "code",
   "execution_count": null,
   "id": "43455c8a",
   "metadata": {},
   "outputs": [],
   "source": [
    "#Topic: Pandas dataframes"
   ]
  },
  {
   "cell_type": "code",
   "execution_count": null,
   "id": "c122aa77",
   "metadata": {},
   "outputs": [],
   "source": [
    "#TASK 1#"
   ]
  },
  {
   "cell_type": "code",
   "execution_count": 26,
   "id": "89dccd08",
   "metadata": {},
   "outputs": [],
   "source": [
    "import pandas as pd"
   ]
  },
  {
   "cell_type": "code",
   "execution_count": 29,
   "id": "43a9c5f7",
   "metadata": {},
   "outputs": [
    {
     "name": "stdout",
     "output_type": "stream",
     "text": [
      "   author_id author_name\n",
      "0          1    Тургенев\n",
      "1          2       Чехов\n",
      "2          3  Островский\n"
     ]
    }
   ],
   "source": [
    "authors = pd.DataFrame({\n",
    "    \"author_id\": [1, 2, 3],\n",
    "    \"author_name\": ['Тургенев', 'Чехов', 'Островский']\n",
    "})\n",
    "print(authors)"
   ]
  },
  {
   "cell_type": "code",
   "execution_count": 30,
   "id": "38efb80a",
   "metadata": {},
   "outputs": [
    {
     "name": "stdout",
     "output_type": "stream",
     "text": [
      "   author_id            book_title  price\n",
      "0          1           Отцы и дети    450\n",
      "1          1                 Рудин    300\n",
      "2          1     Дворянское гнездо    350\n",
      "3          2      Толстый и тонкий    500\n",
      "4          2       Дама с собачкой    450\n",
      "5          3                 Гроза    370\n",
      "6          3  Таланты и поклонники    290\n"
     ]
    }
   ],
   "source": [
    "book = pd.DataFrame({\n",
    "    \"author_id\": [1, 1, 1, 2, 2, 3, 3],\n",
    "    \"book_title\": ['Отцы и дети',\n",
    "                   'Рудин',\n",
    "                   'Дворянское гнездо',\n",
    "                   'Толстый и тонкий',\n",
    "                   'Дама с собачкой',\n",
    "                   'Гроза',\n",
    "                   'Таланты и поклонники'],\n",
    "    \"price\": [450, 300, 350, 500, 450, 370, 290]\n",
    "})\n",
    "print(book)"
   ]
  },
  {
   "cell_type": "code",
   "execution_count": null,
   "id": "1254c397",
   "metadata": {},
   "outputs": [],
   "source": [
    "#TASK 2#"
   ]
  },
  {
   "cell_type": "code",
   "execution_count": 31,
   "id": "e22da56e",
   "metadata": {},
   "outputs": [
    {
     "name": "stdout",
     "output_type": "stream",
     "text": [
      "   author_id author_name            book_title  price\n",
      "0          1    Тургенев           Отцы и дети    450\n",
      "1          1    Тургенев                 Рудин    300\n",
      "2          1    Тургенев     Дворянское гнездо    350\n",
      "3          2       Чехов      Толстый и тонкий    500\n",
      "4          2       Чехов       Дама с собачкой    450\n",
      "5          3  Островский                 Гроза    370\n",
      "6          3  Островский  Таланты и поклонники    290\n"
     ]
    }
   ],
   "source": [
    "authors_price = pd.merge(authors, book, on='author_id')\n",
    "print(authors_price)"
   ]
  },
  {
   "cell_type": "code",
   "execution_count": null,
   "id": "4a3713ae",
   "metadata": {},
   "outputs": [],
   "source": [
    "#TASK 3#"
   ]
  },
  {
   "cell_type": "code",
   "execution_count": 34,
   "id": "eb3351e9",
   "metadata": {},
   "outputs": [
    {
     "name": "stdout",
     "output_type": "stream",
     "text": [
      "   author_id author_name         book_title  price\n",
      "3          2       Чехов   Толстый и тонкий    500\n",
      "0          1    Тургенев        Отцы и дети    450\n",
      "4          2       Чехов    Дама с собачкой    450\n",
      "5          3  Островский              Гроза    370\n",
      "2          1    Тургенев  Дворянское гнездо    350\n"
     ]
    }
   ],
   "source": [
    "top5 = authors_price.nlargest(5, 'price')\n",
    "print(top5)"
   ]
  },
  {
   "cell_type": "code",
   "execution_count": null,
   "id": "2e71d240",
   "metadata": {},
   "outputs": [],
   "source": [
    "#TASK 4#"
   ]
  },
  {
   "cell_type": "code",
   "execution_count": 55,
   "id": "ae9a9da0",
   "metadata": {},
   "outputs": [
    {
     "name": "stdout",
     "output_type": "stream",
     "text": [
      "             min_price  max_price  mean_price\n",
      "author_name                                  \n",
      "Островский         290        370  330.000000\n",
      "Тургенев           300        450  366.666667\n",
      "Чехов              450        500  475.000000\n"
     ]
    }
   ],
   "source": [
    "authors_group = authors_price.groupby('author_name')\n",
    "min_price = authors_group['price'].min()\n",
    "max_price = authors_group['price'].max()\n",
    "mean_price = authors_group['price'].mean()\n",
    "authors_stat = pd.DataFrame({\n",
    "    'min_price': min_price,\n",
    "    'max_price': max_price,\n",
    "    'mean_price': mean_price\n",
    "})\n",
    "print(authors_stat)"
   ]
  },
  {
   "cell_type": "code",
   "execution_count": null,
   "id": "2850cc55",
   "metadata": {},
   "outputs": [],
   "source": []
  }
 ],
 "metadata": {
  "kernelspec": {
   "display_name": "Python 3 (ipykernel)",
   "language": "python",
   "name": "python3"
  },
  "language_info": {
   "codemirror_mode": {
    "name": "ipython",
    "version": 3
   },
   "file_extension": ".py",
   "mimetype": "text/x-python",
   "name": "python",
   "nbconvert_exporter": "python",
   "pygments_lexer": "ipython3",
   "version": "3.9.7"
  }
 },
 "nbformat": 4,
 "nbformat_minor": 5
}
